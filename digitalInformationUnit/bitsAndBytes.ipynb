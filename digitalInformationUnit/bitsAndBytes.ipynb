{
 "cells": [
  {
   "cell_type": "markdown",
   "id": "1905974e",
   "metadata": {},
   "source": [
    "# Bits and Bytes"
   ]
  },
  {
   "cell_type": "markdown",
   "id": "832c59e4",
   "metadata": {},
   "source": [
    "Bit - is the smallest unti of data. A bit is represented by either a 1 or a 0.\n",
    "\n",
    "* Diffrentiate between 1000 \"Mega bits\" or \"Mega Bytes\"\n",
    "\n",
    "Byte - this a string of 8 1's or 0's\n",
    "\n",
    "A --> 01000001\n",
    "\n",
    "JT --> 01001010 01010100\n",
    "\n",
    "Computer Science --> 01000011 01101111 01101101 01110000 01110101 01110100 01100101 01110010 00100000 01010011 01100011 01101001 01100101 01101110 01100011 01100101\n",
    "\n",
    "255 --> 00110010 00110101 00110101\n",
    "\n",
    "### Representing Color\n",
    "\n",
    "- Hexidecimal --> #33 99 ee\n",
    "- RGB --> (255, 145, 98) --> 00110010 00110101 00110101, 00110001 00110100 00110101, 00111001 00111000"
   ]
  },
  {
   "cell_type": "markdown",
   "id": "4dc625e6",
   "metadata": {},
   "source": [
    "### Series of bits\n",
    "\n",
    "2 bits --> 4 different combintions: 00, 10, 0, 11\n",
    "3 bits --> 8 different combintions: 000, 001, 010, 100, 101, 110, 011, 111\n",
    "4 bits --> 16 different\n",
    "5 bits --> 32 different\n",
    "6 bits --> 64 different\n",
    "7 bits --> 128 different\n",
    "8 bits --> 256 different\n",
    "9 bits --> 512 different\n",
    "10 bits --> 1024 different"
   ]
  },
  {
   "cell_type": "markdown",
   "id": "388f6716",
   "metadata": {},
   "source": [
    "###"
   ]
  },
  {
   "cell_type": "markdown",
   "id": "2086851a",
   "metadata": {},
   "source": [
    "## Visulize numbers in Decimal"
   ]
  },
  {
   "cell_type": "markdown",
   "id": "4a80dc3c",
   "metadata": {},
   "source": [
    "234\n",
    "(2 x 100) + (3 x 10) + (4 x 1) = 234"
   ]
  },
  {
   "cell_type": "markdown",
   "id": "8d8c6e3d",
   "metadata": {},
   "source": [
    "## Birnary Numbers"
   ]
  },
  {
   "cell_type": "markdown",
   "id": "265d70a4",
   "metadata": {},
   "source": [
    "            0   0   0   1\n",
    "64  42  16  8   4   2   1 --> Binary Places\n",
    "            (8x0) + (4x0) + (2x0) + (1x1) = 1\n",
    "\n",
    "0   0   1   1   0   1  0\n",
    "64  42  16  8   4   2   1\n",
    "\n",
    "(64x0) + (42x0) + (16x1) + (8x1) + (4x0) + (2x1) + (1x0) = 26"
   ]
  },
  {
   "cell_type": "markdown",
   "id": "8ca242ca",
   "metadata": {},
   "source": [
    "## Limitation of storing numbers"
   ]
  },
  {
   "cell_type": "markdown",
   "id": "1d586df4",
   "metadata": {},
   "source": [
    "<b>Interger</b> - non fractional real number. Any number without a decimal.\n",
    "\n",
    "Intergers can be negative or positive:\n",
    "120, 10, 0 -20, 42\n",
    "\n",
    "#### Example of a computer using 4 bits to represent an interger (,,>﹏<,,)\n",
    "\n",
    "0001\n",
    "\n",
    "+/- 4   2   1\n",
    "\n",
    "sogn    2^2     2^1     2^0"
   ]
  },
  {
   "cell_type": "markdown",
   "id": "6b229c0d",
   "metadata": {},
   "source": []
  },
  {
   "cell_type": "markdown",
   "id": "42f4139e",
   "metadata": {},
   "source": [
    "What would happen if ran a program like this on the 4-bit computer, where the largest postive interger is 7?\n",
    "\n",
    "<b>Overflow</b> - is when a computer reaches it's storage limit capblities, so processimg numbers any further will creat an overflow error."
   ]
  },
  {
   "cell_type": "code",
   "execution_count": 1,
   "id": "3b00039f",
   "metadata": {},
   "outputs": [
    {
     "name": "stdout",
     "output_type": "stream",
     "text": [
      "8\n"
     ]
    }
   ],
   "source": [
    "x = 7\n",
    "y = x + 1 # 8\n",
    "# on a 4 bit machine you would get an error:\n",
    "# Overflow error or Number is too large\n",
    "print(y)"
   ]
  },
  {
   "cell_type": "markdown",
   "id": "33e821e7",
   "metadata": {},
   "source": [
    "#### Modern computer systems use 64 bit arcitectures.\n",
    "\n",
    "This means that modern computers can store numbers safely up to:\n",
    "## 9,007,199,254,740,991 or 2^53 - 1"
   ]
  },
  {
   "cell_type": "markdown",
   "id": "46559f41",
   "metadata": {},
   "source": [
    "## Floating-pint representation"
   ]
  },
  {
   "cell_type": "markdown",
   "id": "9096d11a",
   "metadata": {},
   "source": [
    "Floating-point or decimal numers are trickier to represent in computer memory.\n",
    "\n",
    "Numbers like:\n",
    "<pre>2/5    1.234   9.9999999999    3.1415...</pre>"
   ]
  },
  {
   "cell_type": "markdown",
   "id": "96338eef",
   "metadata": {},
   "source": [
    "computer use <b>floating-point representation</b>:\n",
    "\n",
    "<pre>a number is multiplied by a base that's raised to an exponent:\n",
    "300 = 3 X 10^2\n",
    "\n",
    "Simce we used BINARY:\n",
    "128 = 1 x 2^7\n",
    "256 = 1 x 2^8</pre>"
   ]
  },
  {
   "cell_type": "markdown",
   "id": "a27f04b0",
   "metadata": {},
   "source": [
    "<pre>Numbers btween powers of 2:\n",
    "\n",
    "160 = 1.25 x 2^7\n",
    "192 = 1.5- x 2^7\n",
    "</pre>"
   ]
  },
  {
   "cell_type": "markdown",
   "id": "385ef67d",
   "metadata": {},
   "source": [
    "### What about non-Intergers\n",
    "\n",
    "<pre>\n",
    "0.50 = 1 x 2^-1\n",
    "0.25 = 1 x 2^-2\n",
    "</pre>\n",
    "\n",
    "## What about floating-points\n",
    "\n",
    "<pre>\n",
    "0.750 = 1.5 x 2^-1\n",
    "</pre>"
   ]
  },
  {
   "cell_type": "markdown",
   "id": "3a9454ca",
   "metadata": {},
   "source": [
    "###  Roundoff errors"
   ]
  },
  {
   "cell_type": "markdown",
   "id": "e7536ae0",
   "metadata": {},
   "source": [
    "All floating-point numbers can not be fully represented by using binary\n",
    "\n",
    "1/3 = 1.3 x 2^-2 --> .0101010101..."
   ]
  },
  {
   "cell_type": "code",
   "execution_count": 2,
   "id": "8815e6c0",
   "metadata": {},
   "outputs": [
    {
     "name": "stdout",
     "output_type": "stream",
     "text": [
      "0.30000000000000004\n"
     ]
    }
   ],
   "source": [
    "result = 0.1 + 0.1 + 0.1\n",
    "print(result)"
   ]
  },
  {
   "cell_type": "markdown",
   "id": "8daa7288",
   "metadata": {},
   "source": [
    "The more bits we can use, the more precise our numbers and calculations will be. Modern 64-bit systems offer a high enough precision for low-stakes calculations."
   ]
  },
  {
   "cell_type": "markdown",
   "id": "603dc5fb",
   "metadata": {},
   "source": []
  }
 ],
 "metadata": {
  "kernelspec": {
   "display_name": "Python 3",
   "language": "python",
   "name": "python3"
  },
  "language_info": {
   "codemirror_mode": {
    "name": "ipython",
    "version": 3
   },
   "file_extension": ".py",
   "mimetype": "text/x-python",
   "name": "python",
   "nbconvert_exporter": "python",
   "pygments_lexer": "ipython3",
   "version": "3.12.1"
  }
 },
 "nbformat": 4,
 "nbformat_minor": 5
}
