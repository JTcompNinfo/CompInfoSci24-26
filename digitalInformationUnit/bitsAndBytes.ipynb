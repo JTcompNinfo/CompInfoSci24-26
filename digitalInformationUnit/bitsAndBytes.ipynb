{
 "cells": [
  {
   "cell_type": "markdown",
   "id": "1905974e",
   "metadata": {},
   "source": [
    "# Bits and Bytes"
   ]
  },
  {
   "cell_type": "markdown",
   "id": "832c59e4",
   "metadata": {},
   "source": [
    "Bit - is the smallest unti of data. A bit is represented by either a 1 or a 0.\n",
    "\n",
    "* Diffrentiate between 1000 \"Mega bits\" or \"Mega Bytes\"\n",
    "\n",
    "Byte - this a string of 8 1's or 0's\n",
    "\n",
    "A --> 01000001\n",
    "\n",
    "JT --> 01001010 01010100\n",
    "\n",
    "Computer Science --> 01000011 01101111 01101101 01110000 01110101 01110100 01100101 01110010 00100000 01010011 01100011 01101001 01100101 01101110 01100011 01100101\n",
    "\n",
    "255 --> 00110010 00110101 00110101\n",
    "\n",
    "### Representing Color\n",
    "\n",
    "- Hexidecimal --> #33 99 ee\n",
    "- RGB --> (255, 145, 98) --> 00110010 00110101 00110101, 00110001 00110100 00110101, 00111001 00111000"
   ]
  },
  {
   "cell_type": "markdown",
   "id": "4dc625e6",
   "metadata": {},
   "source": [
    "### Series of bits\n",
    "\n",
    "2 bits --> 4 different combintions: 00, 10, 0, 11\n",
    "3 bits --> 8 different combintions: 000, 001, 010, 100, 101, 110, 011, 111\n",
    "4 bits --> 16 different\n",
    "5 bits --> 32 different\n",
    "6 bits --> 64 different\n",
    "7 bits --> 128 different\n",
    "8 bits --> 256 different\n",
    "9 bits --> 512 different\n",
    "10 bits --> 1024 different"
   ]
  },
  {
   "cell_type": "markdown",
   "id": "388f6716",
   "metadata": {},
   "source": [
    "###"
   ]
  },
  {
   "cell_type": "markdown",
   "id": "2086851a",
   "metadata": {},
   "source": [
    "## Visulize numbers in Decimal"
   ]
  },
  {
   "cell_type": "markdown",
   "id": "4a80dc3c",
   "metadata": {},
   "source": [
    "234\n",
    "(2 x 100) + (3 x 10) + (4 x 1) = 234"
   ]
  },
  {
   "cell_type": "markdown",
   "id": "8d8c6e3d",
   "metadata": {},
   "source": [
    "## Birnary Numbers"
   ]
  },
  {
   "cell_type": "markdown",
   "id": "265d70a4",
   "metadata": {},
   "source": [
    "            0   0   0   1\n",
    "64  42  16  8   4   2   1 --> Binary Places\n",
    "            (8x0) + (4x0) + (2x0) + (1x1) = 1\n",
    "\n",
    "0   0   1   1   0   1  0\n",
    "64  42  16  8   4   2   1\n",
    "\n",
    "(64x0) + (42x0) + (16x1) + (8x1) + (4x0) + (2x1) + (1x0) = 26"
   ]
  }
 ],
 "metadata": {
  "language_info": {
   "name": "python"
  }
 },
 "nbformat": 4,
 "nbformat_minor": 5
}
